{
 "cells": [
  {
   "cell_type": "markdown",
   "id": "10235ccc",
   "metadata": {},
   "source": [
    " Ans1\n",
    " \n",
    " Method 1: Using np.array()\n",
    "\n",
    "You can directly create a 2D array by passing a list of lists to np.array()."
   ]
  },
  {
   "cell_type": "code",
   "execution_count": 192,
   "id": "54eef368",
   "metadata": {},
   "outputs": [
    {
     "name": "stdout",
     "output_type": "stream",
     "text": [
      "Method 1 Output:\n",
      "[[1 2]\n",
      " [3 4]]\n"
     ]
    }
   ],
   "source": [
    "import numpy as np\n",
    "\n",
    "arr1 = np.array([[1, 2], [3, 4]])\n",
    "print(\"Method 1 Output:\")\n",
    "print(arr1)\n"
   ]
  },
  {
   "cell_type": "markdown",
   "id": "b22337e7",
   "metadata": {},
   "source": [
    "Method 2: Using np.zeros() and specifying the shape\n",
    "\n",
    "You can create a 2D array of zeros and then assign the values."
   ]
  },
  {
   "cell_type": "code",
   "execution_count": 193,
   "id": "9e841544",
   "metadata": {},
   "outputs": [
    {
     "name": "stdout",
     "output_type": "stream",
     "text": [
      "\n",
      "Method 2 Output:\n",
      "[[1 2]\n",
      " [3 4]]\n"
     ]
    }
   ],
   "source": [
    "arr2 = np.zeros((2, 2), dtype=int)\n",
    "arr2[0, 0] = 1\n",
    "arr2[0, 1] = 2\n",
    "arr2[1, 0] = 3\n",
    "arr2[1, 1] = 4\n",
    "print(\"\\nMethod 2 Output:\")\n",
    "print(arr2)"
   ]
  },
  {
   "cell_type": "markdown",
   "id": "b762c6a0",
   "metadata": {},
   "source": [
    "Method 3: Using np.full() with a specific value\n",
    "\n",
    "np.full() creates an array of a given shape and fills it with a specified value."
   ]
  },
  {
   "cell_type": "code",
   "execution_count": 194,
   "id": "9cc7e6e0",
   "metadata": {},
   "outputs": [
    {
     "name": "stdout",
     "output_type": "stream",
     "text": [
      "\n",
      "Method 3 Output:\n",
      "[[1 2]\n",
      " [3 4]]\n"
     ]
    }
   ],
   "source": [
    "arr3 = np.full((2, 2), 1)\n",
    "arr3[0, 1] = 2\n",
    "arr3[1, 0] = 3\n",
    "arr3[1, 1] = 4\n",
    "print(\"\\nMethod 3 Output:\")\n",
    "print(arr3)"
   ]
  },
  {
   "cell_type": "markdown",
   "id": "2564c69c",
   "metadata": {},
   "source": [
    "Ans 2."
   ]
  },
  {
   "cell_type": "code",
   "execution_count": 195,
   "id": "314ef328",
   "metadata": {},
   "outputs": [
    {
     "name": "stdout",
     "output_type": "stream",
     "text": [
      "[[ 1.          1.09090909  1.18181818  1.27272727  1.36363636  1.45454545\n",
      "   1.54545455  1.63636364  1.72727273  1.81818182]\n",
      " [ 1.90909091  2.          2.09090909  2.18181818  2.27272727  2.36363636\n",
      "   2.45454545  2.54545455  2.63636364  2.72727273]\n",
      " [ 2.81818182  2.90909091  3.          3.09090909  3.18181818  3.27272727\n",
      "   3.36363636  3.45454545  3.54545455  3.63636364]\n",
      " [ 3.72727273  3.81818182  3.90909091  4.          4.09090909  4.18181818\n",
      "   4.27272727  4.36363636  4.45454545  4.54545455]\n",
      " [ 4.63636364  4.72727273  4.81818182  4.90909091  5.          5.09090909\n",
      "   5.18181818  5.27272727  5.36363636  5.45454545]\n",
      " [ 5.54545455  5.63636364  5.72727273  5.81818182  5.90909091  6.\n",
      "   6.09090909  6.18181818  6.27272727  6.36363636]\n",
      " [ 6.45454545  6.54545455  6.63636364  6.72727273  6.81818182  6.90909091\n",
      "   7.          7.09090909  7.18181818  7.27272727]\n",
      " [ 7.36363636  7.45454545  7.54545455  7.63636364  7.72727273  7.81818182\n",
      "   7.90909091  8.          8.09090909  8.18181818]\n",
      " [ 8.27272727  8.36363636  8.45454545  8.54545455  8.63636364  8.72727273\n",
      "   8.81818182  8.90909091  9.          9.09090909]\n",
      " [ 9.18181818  9.27272727  9.36363636  9.45454545  9.54545455  9.63636364\n",
      "   9.72727273  9.81818182  9.90909091 10.        ]]\n"
     ]
    }
   ],
   "source": [
    "import numpy as np\n",
    "\n",
    "arr = np.linspace(1, 10, 100)\n",
    "\n",
    "arr_reshaped = arr.reshape(10, 10)\n",
    "\n",
    "print(arr_reshaped)"
   ]
  },
  {
   "cell_type": "markdown",
   "id": "e0769e3a",
   "metadata": {},
   "source": [
    "Ans 3.\n",
    "\n",
    "1. The difference between np.array, np.asarray, and np.asanyarray\n",
    "\n",
    "These three functions in NumPy are used to create or convert arrays, but they differ in terms of how they handle input data and how they deal with array-like objects.\n",
    "\n",
    "a. np.array()\n",
    "Purpose: Creates a new NumPy array from an existing list or array-like object.\n",
    "\n",
    "Behavior:\n",
    "\n",
    ".It always returns a new array, regardless of the type of the input.\n",
    ".It copies the data by default (unless copy=False is specified).\n",
    ".It can also interpret and convert types, and can be used with different options for data types (dtype), shape (shape), and other properties."
   ]
  },
  {
   "cell_type": "code",
   "execution_count": 196,
   "id": "cf633b03",
   "metadata": {},
   "outputs": [
    {
     "name": "stdout",
     "output_type": "stream",
     "text": [
      "[1 2 3]\n"
     ]
    }
   ],
   "source": [
    "import numpy as np\n",
    "arr = np.array([1, 2, 3])\n",
    "print(arr)"
   ]
  },
  {
   "cell_type": "markdown",
   "id": "3981d4bc",
   "metadata": {},
   "source": [
    "b. np.asarray()\n",
    "Purpose: Converts the input into a NumPy array, but unlike np.array, it does not copy the data if the input is already a NumPy array.\n",
    "\n",
    "Behavior:\n",
    "\n",
    ".If the input is already a NumPy array, np.asarray() returns the same array without making a copy.\n",
    ".If the input is a list, it creates a new NumPy array.\n",
    ".It's more efficient when you are working with NumPy arrays and do not need to make a copy."
   ]
  },
  {
   "cell_type": "code",
   "execution_count": 197,
   "id": "3ea8bb1f",
   "metadata": {},
   "outputs": [
    {
     "name": "stdout",
     "output_type": "stream",
     "text": [
      "[1 2 3]\n"
     ]
    }
   ],
   "source": [
    "import numpy as np\n",
    "arr = np.asarray([1, 2, 3])\n",
    "print(arr)"
   ]
  },
  {
   "cell_type": "markdown",
   "id": "c75ac7a9",
   "metadata": {},
   "source": [
    "c. np.asanyarray()\n",
    "Purpose: Similar to np.asarray(), but it is more flexible in handling input data types.\n",
    "\n",
    "Behavior:\n",
    "\n",
    "np.asanyarray() will not convert an input of a subclass of ndarray (e.g., a masked_array or matrix) into a base ndarray. It preserves the input's subclass type.\n",
    "If the input is not a NumPy array, it behaves similarly to np.asarray(), creating a new array."
   ]
  },
  {
   "cell_type": "code",
   "execution_count": 198,
   "id": "30a85c35",
   "metadata": {},
   "outputs": [
    {
     "name": "stdout",
     "output_type": "stream",
     "text": [
      "[1 2 3]\n"
     ]
    }
   ],
   "source": [
    "import numpy as np\n",
    "arr = np.asanyarray([1, 2, 3])\n",
    "print(arr)"
   ]
  },
  {
   "cell_type": "markdown",
   "id": "59b68f51",
   "metadata": {},
   "source": [
    "2. The difference between Deep Copy and Shallow Copy\n",
    "a. Shallow Copy\n",
    "\n",
    ".Definition: A shallow copy of an object creates a new object, but does not create copies of nested objects (like lists or arrays inside the object). Instead, the references to the nested objects are copied.\n",
    "\n",
    ".Behavior: The new object and the original object share references to the same nested objects. If a nested object is modified in one, the change is reflected in the other.\n",
    "\n",
    ".Method to create: In Python, you can create a shallow copy using methods like .copy() (for lists) or copy.copy() from the copy module."
   ]
  },
  {
   "cell_type": "code",
   "execution_count": 199,
   "id": "1bb50180",
   "metadata": {},
   "outputs": [
    {
     "name": "stdout",
     "output_type": "stream",
     "text": [
      "[1, [99, 3]]\n"
     ]
    }
   ],
   "source": [
    "import copy\n",
    "a = [1, [2, 3]]\n",
    "b = copy.copy(a)\n",
    "b[1][0] = 99\n",
    "print(a)  # Output: [1, [99, 3]]"
   ]
  },
  {
   "cell_type": "markdown",
   "id": "bbe305a9",
   "metadata": {},
   "source": [
    "b. Deep Copy\n",
    "\n",
    ".Definition: A deep copy creates a new object and recursively copies all nested objects, so the new object is completely independent of the original object.\n",
    "\n",
    ".Behavior: The original object and the deep-copied object do not share references to any objects. Changes to nested objects in the deep copy will not affect the original object.\n",
    "\n",
    ".Method to create: In Python, you can create a deep copy using copy.deepcopy() from the copy module."
   ]
  },
  {
   "cell_type": "code",
   "execution_count": 200,
   "id": "761ff430",
   "metadata": {},
   "outputs": [
    {
     "name": "stdout",
     "output_type": "stream",
     "text": [
      "[1, [2, 3]]\n",
      "[1, [99, 3]]\n"
     ]
    }
   ],
   "source": [
    "import copy\n",
    "a = [1, [2, 3]]\n",
    "b = copy.deepcopy(a)\n",
    "b[1][0] = 99\n",
    "print(a)  # Output: [1, [2, 3]]\n",
    "print(b)  # Output: [1, [99, 3]]"
   ]
  },
  {
   "cell_type": "markdown",
   "id": "632dbd3d",
   "metadata": {},
   "source": [
    "Ans 4."
   ]
  },
  {
   "cell_type": "code",
   "execution_count": 201,
   "id": "cec17057",
   "metadata": {},
   "outputs": [
    {
     "name": "stdout",
     "output_type": "stream",
     "text": [
      "Original Array:\n",
      "[[10.70307351  8.17627096 12.31467953]\n",
      " [ 6.20293105  7.60562678 10.1493577 ]\n",
      " [ 5.56904476 12.16711612 13.76905739]]\n",
      "\n",
      "Rounded Array:\n",
      "[[10.7   8.18 12.31]\n",
      " [ 6.2   7.61 10.15]\n",
      " [ 5.57 12.17 13.77]]\n"
     ]
    }
   ],
   "source": [
    "import numpy as np\n",
    "\n",
    "arr = np.random.uniform(5, 20, (3, 3))\n",
    "\n",
    "arr_rounded = np.round(arr, 2)\n",
    "\n",
    "print(\"Original Array:\")\n",
    "print(arr)\n",
    "print(\"\\nRounded Array:\")\n",
    "print(arr_rounded)"
   ]
  },
  {
   "cell_type": "markdown",
   "id": "76aba53f",
   "metadata": {},
   "source": [
    "Ans 5."
   ]
  },
  {
   "cell_type": "code",
   "execution_count": 202,
   "id": "9f961e03",
   "metadata": {},
   "outputs": [
    {
     "name": "stdout",
     "output_type": "stream",
     "text": [
      "Original Array:\n",
      "[[ 1  9  6 10  6  7]\n",
      " [ 4  4  2  5  8  3]\n",
      " [ 8  4  8  1  2  3]\n",
      " [ 7  7  1 10 10  1]\n",
      " [ 1  1  1  2  4  6]]\n",
      "\n",
      "Even Integers:\n",
      "[ 6 10  6  4  4  2  8  8  4  8  2 10 10  2  4  6]\n",
      "\n",
      "Odd Integers:\n",
      "[1 9 7 5 3 1 3 7 7 1 1 1 1 1]\n"
     ]
    }
   ],
   "source": [
    "import numpy as np\n",
    "\n",
    "arr = np.random.randint(1, 11, (5, 6))\n",
    "\n",
    "even_numbers = arr[arr % 2 == 0]\n",
    "\n",
    "odd_numbers = arr[arr % 2 != 0]\n",
    "\n",
    "print(\"Original Array:\")\n",
    "print(arr)\n",
    "\n",
    "print(\"\\nEven Integers:\")\n",
    "print(even_numbers)\n",
    "\n",
    "print(\"\\nOdd Integers:\")\n",
    "print(odd_numbers)"
   ]
  },
  {
   "cell_type": "markdown",
   "id": "203db704",
   "metadata": {},
   "source": [
    "Ans 6."
   ]
  },
  {
   "cell_type": "code",
   "execution_count": 203,
   "id": "bb49f294",
   "metadata": {},
   "outputs": [
    {
     "name": "stdout",
     "output_type": "stream",
     "text": [
      "Original 3D Array:\n",
      "[[[ 4  1  6]\n",
      "  [ 9  4  1]\n",
      "  [ 1  7  8]]\n",
      "\n",
      " [[ 8  9  2]\n",
      "  [10  7  3]\n",
      "  [ 1  8  2]]\n",
      "\n",
      " [[ 4  6  4]\n",
      "  [ 8  1  8]\n",
      "  [ 1  3  8]]]\n",
      "\n",
      "Indices of Maximum Values Along Each Depth Level:\n",
      "[[2 0 2]\n",
      " [1 0 1]\n",
      " [1 0 2]]\n",
      "\n",
      "Element-wise Multiplication of the Array with Itself:\n",
      "[[[ 16   1  36]\n",
      "  [ 81  16   1]\n",
      "  [  1  49  64]]\n",
      "\n",
      " [[ 64  81   4]\n",
      "  [100  49   9]\n",
      "  [  1  64   4]]\n",
      "\n",
      " [[ 16  36  16]\n",
      "  [ 64   1  64]\n",
      "  [  1   9  64]]]\n"
     ]
    }
   ],
   "source": [
    "import numpy as np\n",
    "\n",
    "arr = np.random.randint(1, 11, (3, 3, 3))\n",
    "\n",
    "max_indices = np.argmax(arr, axis=2)\n",
    "\n",
    "arr_multiplied = np.multiply(arr, arr)\n",
    "\n",
    "print(\"Original 3D Array:\")\n",
    "print(arr)\n",
    "\n",
    "print(\"\\nIndices of Maximum Values Along Each Depth Level:\")\n",
    "print(max_indices)\n",
    "\n",
    "print(\"\\nElement-wise Multiplication of the Array with Itself:\")\n",
    "print(arr_multiplied)\n"
   ]
  },
  {
   "cell_type": "markdown",
   "id": "d06cf8c4",
   "metadata": {},
   "source": [
    "Ans 7."
   ]
  },
  {
   "cell_type": "code",
   "execution_count": 204,
   "id": "002b9aa6",
   "metadata": {},
   "outputs": [
    {
     "name": "stdout",
     "output_type": "stream",
     "text": [
      "Cleaned DataFrame:\n",
      "      Name       Phone  Age\n",
      "0    Alice  1234567890   25\n",
      "1      Bob  9876543210   30\n",
      "2  Charlie  5551234567   35\n",
      "\n",
      "Data Types of Each Column:\n",
      "Name     object\n",
      "Phone     int64\n",
      "Age       int64\n",
      "dtype: object\n"
     ]
    }
   ],
   "source": [
    "import pandas as pd\n",
    "\n",
    "data = {\n",
    "    'Name': ['Alice', 'Bob', 'Charlie'],\n",
    "    'Phone': ['(123) 456-7890', '987-654-3210', '555.123.4567'],\n",
    "    'Age': [25, 30, 35]\n",
    "}\n",
    "\n",
    "df = pd.DataFrame(data)\n",
    "\n",
    "df['Phone'] = df['Phone'].replace(r'\\D', '', regex=True)\n",
    "\n",
    "df['Phone'] = pd.to_numeric(df['Phone'], errors='coerce')  \n",
    "\n",
    "print(\"Cleaned DataFrame:\")\n",
    "print(df)\n",
    "\n",
    "print(\"\\nData Types of Each Column:\")\n",
    "print(df.dtypes)"
   ]
  },
  {
   "cell_type": "markdown",
   "id": "88777b28",
   "metadata": {},
   "source": [
    "Ans 8.\n",
    "\n",
    "1. Read the 'data.csv' file while skipping the first 50 rows.\n",
    "\n",
    "You can use the skiprows parameter in pd.read_csv() to skip the first 50 rows.\n",
    "\n",
    "2. Only read specific columns ('Last Name', 'Gender', 'Email', 'Phone', 'Salary') from the file.\n",
    "\n",
    "You can use the usecols parameter to select specific columns to read.\n",
    "\n",
    "3. Display the first 10 rows of the filtered dataset.\n",
    "\n",
    "Use .head(10) to display the first 10 rows.\n",
    "\n",
    "4. Extract the 'Salary' column as a Series and display its last 5 values.\n",
    "\n",
    "You can extract the column directly and use .tail(5) to display the last 5 values."
   ]
  },
  {
   "cell_type": "markdown",
   "id": "da50853c",
   "metadata": {},
   "source": [
    "Ans 11."
   ]
  },
  {
   "cell_type": "code",
   "execution_count": 205,
   "id": "3778d3f1",
   "metadata": {},
   "outputs": [
    {
     "name": "stdout",
     "output_type": "stream",
     "text": [
      "   col1  col2\n",
      "0    39   266\n",
      "1    24   991\n",
      "2    46   553\n",
      "3    22   954\n",
      "4    41   737\n"
     ]
    }
   ],
   "source": [
    "import pandas as pd\n",
    "import numpy as np\n",
    "\n",
    "series1 = np.random.randint(10, 51, size=50)\n",
    "\n",
    "series2 = np.random.randint(100, 1001, size=50)\n",
    "\n",
    "df = pd.DataFrame({\n",
    "    'col1': series1,\n",
    "    'col2': series2\n",
    "})\n",
    "\n",
    "print(df.head())"
   ]
  },
  {
   "cell_type": "markdown",
   "id": "c77f1c26",
   "metadata": {},
   "source": [
    "Ans 2."
   ]
  }
 ],
 "metadata": {
  "kernelspec": {
   "display_name": "Python 3",
   "language": "python",
   "name": "python3"
  },
  "language_info": {
   "codemirror_mode": {
    "name": "ipython",
    "version": 3
   },
   "file_extension": ".py",
   "mimetype": "text/x-python",
   "name": "python",
   "nbconvert_exporter": "python",
   "pygments_lexer": "ipython3",
   "version": "3.13.0"
  }
 },
 "nbformat": 4,
 "nbformat_minor": 5
}
